{
 "cells": [
  {
   "cell_type": "code",
   "execution_count": 22,
   "id": "612b924d-cf91-4e50-9e99-22d0e04e6728",
   "metadata": {},
   "outputs": [],
   "source": [
    "import sys\n",
    "import os\n",
    "\n",
    "\n",
    "project_root = os.path.abspath(os.path.join(os.getcwd(), \"..\"))\n",
    "if project_root not in sys.path:\n",
    "    sys.path.append(project_root)"
   ]
  },
  {
   "cell_type": "code",
   "execution_count": 23,
   "id": "afed8df6-f937-4cc7-a75e-fe7a57345b90",
   "metadata": {},
   "outputs": [],
   "source": [
    "from src.prod_plan import build_smarter_production_plan\n",
    "from src.transport_truck import simulate_truck_allocation_pandas\n",
    "from src.deplyment import accurate_deployment"
   ]
  },
  {
   "cell_type": "code",
   "execution_count": 24,
   "id": "29f596c1-4036-4b55-b2c6-6a8a82f58bbf",
   "metadata": {},
   "outputs": [],
   "source": [
    "import polars as pl \n",
    "import numpy as np\n",
    "from datetime import timedelta, datetime\n",
    "import pandas as pd\n",
    "\n",
    "rng = np.random.default_rng(seed=42)\n",
    "horizon = 45\n",
    "\n",
    "demand_outlook = pl.read_csv(\"Symulation data/demand_outlook.csv\")\n",
    "prod_master = pl.read_csv(\"Symulation data/prod_master.csv\")\n",
    "Prod_req = pl.read_csv(\"Symulation data/Prod_req_df.csv\")\n",
    "df_tt = pl.read_csv(\"Symulation data/lane_rules.csv\")\n",
    "pal_size_df = pl.read_csv(\"Symulation data/pal_size_df.csv\") "
   ]
  },
  {
   "cell_type": "code",
   "execution_count": 25,
   "id": "28821019-b323-4804-b419-302e32dcbe49",
   "metadata": {},
   "outputs": [],
   "source": [
    "# Aggregate all store demands to plant level\n",
    "\n",
    "plant_demand = (Prod_req\n",
    "    .group_by([\"plant_id\", \"item_id\", \"day\", \"date\"])\n",
    "    .agg([\n",
    "        pl.sum(\"prod_requirements\").alias(\"total_daily_requirement\"),\n",
    "        pl.max(\"current_stockout_risk\").alias(\"has_stockout_risk\"),\n",
    "        pl.max(\"current_ss_risk\").alias(\"has_ss_risk\"),\n",
    "        pl.first('starting_inventory_plant').alias('starting_inventory_plant')\n",
    "    ])\n",
    "    .sort([\"plant_id\", \"item_id\", \"day\", \"date\"])\n",
    ")\n",
    "\n",
    "# Join with production constraints\n",
    "plant_plan = (plant_demand\n",
    "    .join(prod_master, on=[\"plant_id\", \"item_id\"])\n",
    "    .with_columns([\n",
    "        # Priority logic\n",
    "        pl.when(pl.col(\"has_stockout_risk\") > 0)\n",
    "        .then(1)  # Prio 1: Stockout\n",
    "        .when(pl.col(\"has_ss_risk\") > 0)  \n",
    "        .then(2)  # Prio 2: Safety stock risk\n",
    "        .otherwise(3)  # Prio 3: Normal\n",
    "        .alias(\"priority\")\n",
    "    ])\n",
    ")"
   ]
  },
  {
   "cell_type": "code",
   "execution_count": 26,
   "id": "a4e71a5a-8bb6-4059-8df6-23d2fd8c9c74",
   "metadata": {},
   "outputs": [],
   "source": [
    "# Convert to pandas for processing\n",
    "plant_plan_pd = plant_plan.to_pandas()\n",
    "\n",
    "results = []\n",
    "for (plant_id, item_id), group in plant_plan_pd.groupby(['plant_id', 'item_id']):\n",
    "    processed_group = build_smarter_production_plan(group)\n",
    "    results.append(processed_group)\n",
    "\n",
    "# Combine results and convert back to Polars\n",
    "production_plan_pd = pd.concat(results, ignore_index=True)\n",
    "production_plan = pl.from_pandas(production_plan_pd).sort([\"plant_id\", \"item_id\", \"day\"])\n",
    "\n",
    "production_plan.write_csv(\"Data/Prod_Plan_Before.csv\")"
   ]
  },
  {
   "cell_type": "code",
   "execution_count": 27,
   "id": "61086c00-c396-400c-8b98-6e45591b4e5d",
   "metadata": {},
   "outputs": [],
   "source": [
    "deployments = accurate_deployment(production_plan, demand_outlook)"
   ]
  },
  {
   "cell_type": "code",
   "execution_count": 28,
   "id": "f3913acf-1c04-4e1a-9041-c492efb13b3e",
   "metadata": {},
   "outputs": [],
   "source": [
    "# --- Step 1: build pallets summary ---\n",
    "deployment_with_pallets = deployments.join(\n",
    "    pal_size_df, on=\"plant_id\", how=\"left\"\n",
    ")\n",
    "\n",
    "deployment_with_pallets = deployment_with_pallets.with_columns([\n",
    "    (pl.col(\"quantity\") / pl.col(\"pallet_size\")).alias(\"pallet_exact\")\n",
    "])\n",
    "\n",
    "daily_pallet_summary = (\n",
    "    deployment_with_pallets\n",
    "    .group_by([\"day\", \"plant_id\", \"item_id\", \"store_id\", \"priority\", \"pallet_size\"])\n",
    "    .agg([\n",
    "        pl.col(\"pallet_exact\").sum().alias(\"store_pallet_total\"),\n",
    "        pl.col(\"quantity\").sum().alias(\"deployment_qty\")\n",
    "    ])\n",
    "    .sort([\"day\", \"plant_id\", \"store_id\", \"item_id\", \"priority\"])\n",
    ")\n",
    "# --- move from Polars → Pandas ---\n",
    "daily_pallet_summary_pd = daily_pallet_summary.to_pandas()\n"
   ]
  },
  {
   "cell_type": "code",
   "execution_count": 29,
   "id": "21c063f0-5192-4a5b-9b8b-1edf18892fb2",
   "metadata": {},
   "outputs": [],
   "source": [
    "out_pd = simulate_truck_allocation_pandas(daily_pallet_summary_pd, truck_capacity=34.0)\n",
    "\n",
    "out_pl = pl.from_pandas(out_pd)"
   ]
  },
  {
   "cell_type": "code",
   "execution_count": 30,
   "id": "4ec9ce57-15ec-4486-bc72-1ee1c68efb6d",
   "metadata": {},
   "outputs": [],
   "source": [
    "out_pl = (\n",
    "    out_pl.group_by([\"day\", \"plant_id\", \"store_id\", \"item_id\", \"pallet_size\"])\n",
    "    .agg([pl.col(\"qty_sent\").sum().alias(\"qty_sent\"),\n",
    "          pl.col(\"pallets_sent\").sum().alias(\"pallets_sent\")])\n",
    ")"
   ]
  },
  {
   "cell_type": "code",
   "execution_count": 31,
   "id": "7ad699c6-0027-49e1-8bf5-6992bdb0c2da",
   "metadata": {},
   "outputs": [],
   "source": [
    "out_pl.write_csv(\"Data/Deployment_Before.csv\")"
   ]
  }
 ],
 "metadata": {
  "kernelspec": {
   "display_name": "Python [conda env:base] *",
   "language": "python",
   "name": "conda-base-py"
  },
  "language_info": {
   "codemirror_mode": {
    "name": "ipython",
    "version": 3
   },
   "file_extension": ".py",
   "mimetype": "text/x-python",
   "name": "python",
   "nbconvert_exporter": "python",
   "pygments_lexer": "ipython3",
   "version": "3.13.5"
  }
 },
 "nbformat": 4,
 "nbformat_minor": 5
}
